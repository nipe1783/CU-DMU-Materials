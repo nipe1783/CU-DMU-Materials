{
 "cells": [
  {
   "cell_type": "code",
   "execution_count": 5,
   "metadata": {},
   "outputs": [],
   "source": [
    "using DMUStudent.HW2\n",
    "using POMDPs: states, actions, transition, stateindex, actionindex, reward, pdf\n",
    "using POMDPTools: ordered_states, render, VectorPolicy\n",
    "using ElectronDisplay\n",
    "using POMDPModels: SimpleGridWorld\n",
    "using Distributions: support\n",
    "using SparseArrays\n",
    "using LinearAlgebra"
   ]
  },
  {
   "cell_type": "code",
   "execution_count": 2,
   "metadata": {},
   "outputs": [
    {
     "data": {
      "text/plain": [
       "UnresponsiveACASMDP(0.03571428571428571, Discretizers.LinearDiscretizer{Float64, Int64}([27500.0, 27642.85714285714, 27785.714285714286, 27928.571428571428, 28071.428571428572, 28214.285714285714, 28357.14285714286, 28500.0, 28642.85714285714, 28785.714285714286  …  31214.285714285714, 31357.14285714286, 31500.0, 31642.85714285714, 31785.714285714286, 31928.571428571428, 32071.428571428572, 32214.285714285714, 32357.14285714286, 32500.0], 35, true), Discretizers.LinearDiscretizer{Float64, Int64}([-3750.0, -2250.0, -750.0, 750.0, 2250.0, 3750.0], 5, true), Discretizers.LinearDiscretizer{Float64, Int64}([0.0, 3142.8571428571427, 6285.714285714285, 9428.57142857143, 12571.42857142857, 15714.285714285714, 18857.14285714286, 22000.0, 25142.85714285714, 28285.714285714286  …  191714.2857142857, 194857.14285714287, 198000.0, 201142.85714285713, 204285.7142857143, 207428.57142857142, 210571.42857142858, 213714.2857142857, 216857.14285714287, 220000.0], 70, true), [0.0, 0.0, 0.0, 0.0, 0.0, 0.0, 0.0, 0.0, 0.0, 1.2761521546177458e-300  …  1.0, 1.0, 1.0, 1.0, 1.0, 1.0, 1.0, 1.0, 1.0, 1.0])"
      ]
     },
     "metadata": {},
     "output_type": "display_data"
    }
   ],
   "source": [
    "m = UnresponsiveACASMDP(7)"
   ]
  },
  {
   "cell_type": "code",
   "execution_count": 7,
   "metadata": {},
   "outputs": [
    {
     "name": "stdout",
     "output_type": "stream",
     "text": [
      "Next state: [27714.285714285714, -3000.0, 27571.428571428572, 211357.14285714287] has a nonzero probability of 0.22484589898444501\n",
      "Next state: [27714.285714285714, -3000.0, 27714.285714285714, 211357.14285714287] has a nonzero probability of 0.5503082020311099\n",
      "Next state: [27714.285714285714, -3000.0, 27857.142857142855, 211357.14285714287] has a nonzero probability of 0.21317479797799976\n",
      "Next state: [27714.285714285714, -3000.0, 28000.0, 211357.14285714287] has a nonzero probability of 0.011592574864329963\n",
      "Next state: [27714.285714285714, -3000.0, 28142.857142857145, 211357.14285714287] has a nonzero probability of 7.84654843899446e-5\n",
      "Next state: [27714.285714285714, -3000.0, 28285.714285714286, 211357.14285714287] has a nonzero probability of 6.065261504151209e-8\n",
      "Next state: [27714.285714285714, -3000.0, 28428.571428571428, 211357.14285714287] has a nonzero probability of 5.1103565823495956e-12\n"
     ]
    }
   ],
   "source": [
    "next_state_dist = transition(m, [27750.0, -3000.0, 27750.0, 214500.0], 0)\n",
    "\n",
    "for next_state in support(next_state_dist)\n",
    "    prob = pdf(next_state_dist, next_state)  # Correct use of pdf\n",
    "    if prob > 0\n",
    "        println(\"Next state: $next_state has a nonzero probability of $prob\")\n",
    "    end\n",
    "end"
   ]
  }
 ],
 "metadata": {
  "kernelspec": {
   "display_name": "Julia 1.11.2",
   "language": "julia",
   "name": "julia-1.11"
  },
  "language_info": {
   "file_extension": ".jl",
   "mimetype": "application/julia",
   "name": "julia",
   "version": "1.11.2"
  }
 },
 "nbformat": 4,
 "nbformat_minor": 2
}
