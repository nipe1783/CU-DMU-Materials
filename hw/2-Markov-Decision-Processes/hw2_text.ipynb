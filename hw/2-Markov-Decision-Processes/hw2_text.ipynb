{
 "cells": [
  {
   "cell_type": "code",
   "execution_count": null,
   "metadata": {
    "vscode": {
     "languageId": "julia"
    }
   },
   "outputs": [],
   "source": [
    "############\n",
    "# Question 3\n",
    "############\n",
    "\n",
    "function lookahead(mdp, U, s, a, T, R, gamma, s_idx)\n",
    "    # Computes Q(s, a) using the current value function U\n",
    "    q_sa = R[a][s_idx]  # Immediate reward\n",
    "\n",
    "    for sp in support(transition(mdp, s, a))\n",
    "        sp_idx = stateindex(mdp, sp)\n",
    "        p = T[a][s_idx, sp_idx]  # Transition probability from s to sp\n",
    "        q_sa += gamma * p * U[sp_idx]\n",
    "    end\n",
    "\n",
    "    return q_sa\n",
    "end\n",
    "\n",
    "function backup(mdp, U, s, T, R, gamma)\n",
    "    # Computes new U[s] pg. 142 in text. https://algorithmsbook.com/files/dm.pdf\n",
    "    s_idx = stateindex(mdp, s)\n",
    "    return maximum(lookahead(mdp, U, s, a, T, R, gamma, s_idx) for a in actions(mdp))\n",
    "end\n",
    "\n",
    "function value_iteration_viz(mdp, tol=1e-6, max_itrs=100, gamma=0.95)\n",
    "    T = transition_matrices(mdp)\n",
    "    R = reward_vectors(mdp)\n",
    "    U = zeros(length(states(mdp)))\n",
    "    A = collect(actions(mdp))\n",
    "    for itr = 1:max_itrs\n",
    "        U = [backup(mdp, U, s, T, R, gamma) for s in states(mdp)]\n",
    "        display(render(grid_world, color=U))\n",
    "        sleep(0.2)\n",
    "    end\n",
    "    return U\n",
    "end\n",
    "\n",
    "function value_iteration(mdp, tol=1e-6, max_itrs=100, gamma=0.95)\n",
    "    T = transition_matrices(mdp)\n",
    "    R = reward_vectors(mdp)\n",
    "    U = zeros(length(states(mdp)))\n",
    "    for itr = 1:max_itrs\n",
    "        U = [backup(mdp, U, s, T, R, gamma) for s in states(mdp)]\n",
    "    end\n",
    "    return U\n",
    "end"
   ]
  },
  {
   "cell_type": "code",
   "execution_count": null,
   "metadata": {
    "vscode": {
     "languageId": "julia"
    }
   },
   "outputs": [],
   "source": [
    "mdp = SimpleGridWorld()\n",
    "U = value_iteration_viz(mdp)\n"
   ]
  }
 ],
 "metadata": {
  "language_info": {
   "name": "python"
  }
 },
 "nbformat": 4,
 "nbformat_minor": 2
}
